{
  "nbformat": 4,
  "nbformat_minor": 0,
  "metadata": {
    "colab": {
      "provenance": [],
      "authorship_tag": "ABX9TyNeT32SafM83IAg2t+QojcW"
    },
    "kernelspec": {
      "name": "python3",
      "display_name": "Python 3"
    },
    "language_info": {
      "name": "python"
    }
  },
  "cells": [
    {
      "cell_type": "code",
      "execution_count": 3,
      "metadata": {
        "id": "Wuu9ZGsnrXfn"
      },
      "outputs": [],
      "source": [
        "import torch\n",
        "import torchvision\n",
        "from torch.utils.data import DataLoader\n",
        "import torch.nn as nn"
      ]
    },
    {
      "cell_type": "code",
      "source": [
        "train_data=torchvision.datasets.MNIST('/data',\n",
        "                                      train=True,\n",
        "                                      download=True,\n",
        "                                      transform=torchvision.transforms.ToTensor())\n",
        "test_data=torchvision.datasets.MNIST('/data',\n",
        "                                      train=False,\n",
        "                                      download=True,\n",
        "                                      transform=torchvision.transforms.ToTensor())"
      ],
      "metadata": {
        "colab": {
          "base_uri": "https://localhost:8080/"
        },
        "id": "9tVnWvRCurvf",
        "outputId": "b17716f4-52c0-4723-9c8d-344f99ff26c1"
      },
      "execution_count": 8,
      "outputs": [
        {
          "output_type": "stream",
          "name": "stdout",
          "text": [
            "Downloading http://yann.lecun.com/exdb/mnist/train-images-idx3-ubyte.gz\n",
            "Failed to download (trying next):\n",
            "HTTP Error 404: Not Found\n",
            "\n",
            "Downloading https://ossci-datasets.s3.amazonaws.com/mnist/train-images-idx3-ubyte.gz\n",
            "Downloading https://ossci-datasets.s3.amazonaws.com/mnist/train-images-idx3-ubyte.gz to /data/MNIST/raw/train-images-idx3-ubyte.gz\n"
          ]
        },
        {
          "output_type": "stream",
          "name": "stderr",
          "text": [
            "100%|██████████| 9.91M/9.91M [00:00<00:00, 11.4MB/s]\n"
          ]
        },
        {
          "output_type": "stream",
          "name": "stdout",
          "text": [
            "Extracting /data/MNIST/raw/train-images-idx3-ubyte.gz to /data/MNIST/raw\n",
            "\n",
            "Downloading http://yann.lecun.com/exdb/mnist/train-labels-idx1-ubyte.gz\n",
            "Failed to download (trying next):\n",
            "HTTP Error 404: Not Found\n",
            "\n",
            "Downloading https://ossci-datasets.s3.amazonaws.com/mnist/train-labels-idx1-ubyte.gz\n",
            "Downloading https://ossci-datasets.s3.amazonaws.com/mnist/train-labels-idx1-ubyte.gz to /data/MNIST/raw/train-labels-idx1-ubyte.gz\n"
          ]
        },
        {
          "output_type": "stream",
          "name": "stderr",
          "text": [
            "100%|██████████| 28.9k/28.9k [00:00<00:00, 342kB/s]\n"
          ]
        },
        {
          "output_type": "stream",
          "name": "stdout",
          "text": [
            "Extracting /data/MNIST/raw/train-labels-idx1-ubyte.gz to /data/MNIST/raw\n",
            "\n",
            "Downloading http://yann.lecun.com/exdb/mnist/t10k-images-idx3-ubyte.gz\n",
            "Failed to download (trying next):\n",
            "HTTP Error 404: Not Found\n",
            "\n",
            "Downloading https://ossci-datasets.s3.amazonaws.com/mnist/t10k-images-idx3-ubyte.gz\n",
            "Downloading https://ossci-datasets.s3.amazonaws.com/mnist/t10k-images-idx3-ubyte.gz to /data/MNIST/raw/t10k-images-idx3-ubyte.gz\n"
          ]
        },
        {
          "output_type": "stream",
          "name": "stderr",
          "text": [
            "100%|██████████| 1.65M/1.65M [00:00<00:00, 3.16MB/s]\n"
          ]
        },
        {
          "output_type": "stream",
          "name": "stdout",
          "text": [
            "Extracting /data/MNIST/raw/t10k-images-idx3-ubyte.gz to /data/MNIST/raw\n",
            "\n",
            "Downloading http://yann.lecun.com/exdb/mnist/t10k-labels-idx1-ubyte.gz\n",
            "Failed to download (trying next):\n",
            "HTTP Error 404: Not Found\n",
            "\n",
            "Downloading https://ossci-datasets.s3.amazonaws.com/mnist/t10k-labels-idx1-ubyte.gz\n",
            "Downloading https://ossci-datasets.s3.amazonaws.com/mnist/t10k-labels-idx1-ubyte.gz to /data/MNIST/raw/t10k-labels-idx1-ubyte.gz\n"
          ]
        },
        {
          "output_type": "stream",
          "name": "stderr",
          "text": [
            "100%|██████████| 4.54k/4.54k [00:00<00:00, 6.31MB/s]\n"
          ]
        },
        {
          "output_type": "stream",
          "name": "stdout",
          "text": [
            "Extracting /data/MNIST/raw/t10k-labels-idx1-ubyte.gz to /data/MNIST/raw\n",
            "\n"
          ]
        }
      ]
    },
    {
      "cell_type": "code",
      "source": [
        "device=torch.device('cuda' if torch.cuda.is_available() else 'cpu')\n",
        "print(device)\n",
        "train_loader=DataLoader(train_data,batch_size=64,shuffle=True,num_workers=4) #Dataloader library makes batch sizes\n",
        "test_loader=DataLoader(test_data,batch_size=64,shuffle=True,num_workers=4)"
      ],
      "metadata": {
        "colab": {
          "base_uri": "https://localhost:8080/"
        },
        "id": "VE8z_uvBvYB2",
        "outputId": "a1f47f23-6b3b-480a-ec61-b8923e97d226"
      },
      "execution_count": 10,
      "outputs": [
        {
          "output_type": "stream",
          "name": "stdout",
          "text": [
            "cpu\n"
          ]
        },
        {
          "output_type": "stream",
          "name": "stderr",
          "text": [
            "/usr/local/lib/python3.11/dist-packages/torch/utils/data/dataloader.py:617: UserWarning: This DataLoader will create 4 worker processes in total. Our suggested max number of worker in current system is 2, which is smaller than what this DataLoader is going to create. Please be aware that excessive worker creation might get DataLoader running slow or even freeze, lower the worker number to avoid potential slowness/freeze if necessary.\n",
            "  warnings.warn(\n"
          ]
        }
      ]
    },
    {
      "cell_type": "code",
      "source": [
        "model=nn.Sequential(\n",
        "    nn.Flatten(), #flatten input\n",
        "    nn.Linear(784,512),\n",
        "    nn.ReLU(),\n",
        "    nn.Linear(512,256),\n",
        "    nn.ReLU(),\n",
        "    nn.Linear(256,64),\n",
        "    nn.ReLU(),\n",
        "    nn.Linear(64,10) #output layer #no activation, logits=true\n",
        ")"
      ],
      "metadata": {
        "id": "qWc-j-10wEHy"
      },
      "execution_count": 12,
      "outputs": []
    },
    {
      "cell_type": "code",
      "source": [
        "model=torch.compile(model).to(device)\n",
        "#compiler just initialises and optimises weight matrices."
      ],
      "metadata": {
        "id": "Xui8Xth6x2F1"
      },
      "execution_count": 13,
      "outputs": []
    },
    {
      "cell_type": "code",
      "source": [
        "loss_fn=nn.CrossEntropyLoss()\n",
        "optimizer=torch.optim.Adam(model.parameters(),lr=0.001)"
      ],
      "metadata": {
        "id": "Gh8bxkjKx9q_"
      },
      "execution_count": 26,
      "outputs": []
    },
    {
      "cell_type": "code",
      "source": [
        "def batch_accuracy(output,label,N):\n",
        "  y_pred= torch.argmax(output,dim=1)\n",
        "  correct=(y_pred==label).sum().item()\n",
        "  return correct/N\n"
      ],
      "metadata": {
        "id": "IRTZDSbxzCI2"
      },
      "execution_count": 15,
      "outputs": []
    },
    {
      "cell_type": "code",
      "source": [
        "def training():\n",
        "  loss=0\n",
        "  accuracy=0\n",
        "  model.train()\n",
        "  for image,label in train_loader:\n",
        "    image=image.to(device)\n",
        "    label=label.to(device)\n",
        "    output=model(image)\n",
        "    batch_loss=loss_fn(output,label)\n",
        "    optimizer.zero_grad()\n",
        "    batch_loss.backward()\n",
        "    optimizer.step()\n",
        "    accuracy+=batch_accuracy(output,label,label.shape[0])\n",
        "  print(f'Training accuracy:({accuracy/len(train_loader)})')\n",
        "  print(f'Training loss:({loss/len(train_loader)})')"
      ],
      "metadata": {
        "id": "6UVq8MzF0WXA"
      },
      "execution_count": 27,
      "outputs": []
    },
    {
      "cell_type": "code",
      "source": [
        "def evaluate():\n",
        "  loss = 0\n",
        "  accuracy = 0  # Initialize accuracy to 0 instead of model.eval()\n",
        "  model.eval()  # Call model.eval() to set the model to evaluation mode\n",
        "  with torch.no_grad():\n",
        "    for image, label in test_loader:\n",
        "      image = image.to(device)\n",
        "      label = label.to(device)\n",
        "      output = model(image)\n",
        "      batch_loss = loss_fn(output, label)\n",
        "      loss += batch_loss.item()\n",
        "      accuracy += batch_accuracy(output, label, label.shape[0])\n",
        "  print(f'Test accuracy:({accuracy/len(test_loader)})')"
      ],
      "metadata": {
        "id": "w2Equ5l02y2_"
      },
      "execution_count": 29,
      "outputs": []
    },
    {
      "cell_type": "code",
      "source": [
        "epochs=10\n",
        "for i in range(epochs):\n",
        "  print(f'Epoch:{i+1}')\n",
        "  training()\n",
        "  evaluate()"
      ],
      "metadata": {
        "colab": {
          "base_uri": "https://localhost:8080/"
        },
        "id": "pNMiKqW-3UDT",
        "outputId": "58819d33-e568-4cae-a080-1004edacfe0f"
      },
      "execution_count": 30,
      "outputs": [
        {
          "output_type": "stream",
          "name": "stdout",
          "text": [
            "Epoch:1\n"
          ]
        },
        {
          "output_type": "stream",
          "name": "stderr",
          "text": [
            "/usr/local/lib/python3.11/dist-packages/torch/utils/data/dataloader.py:617: UserWarning: This DataLoader will create 4 worker processes in total. Our suggested max number of worker in current system is 2, which is smaller than what this DataLoader is going to create. Please be aware that excessive worker creation might get DataLoader running slow or even freeze, lower the worker number to avoid potential slowness/freeze if necessary.\n",
            "  warnings.warn(\n"
          ]
        },
        {
          "output_type": "stream",
          "name": "stdout",
          "text": [
            "Training accuracy:(0.9705656982942431)\n",
            "Training loss:(0.0)\n",
            "Test accuracy:(0.9704418789808917)\n",
            "Epoch:2\n",
            "Training accuracy:(0.9793276918976546)\n",
            "Training loss:(0.0)\n",
            "Test accuracy:(0.9768113057324841)\n",
            "Epoch:3\n",
            "Training accuracy:(0.9849413646055437)\n",
            "Training loss:(0.0)\n",
            "Test accuracy:(0.977109872611465)\n",
            "Epoch:4\n",
            "Training accuracy:(0.9880730277185501)\n",
            "Training loss:(0.0)\n",
            "Test accuracy:(0.9766122611464968)\n",
            "Epoch:5\n",
            "Training accuracy:(0.9899886727078892)\n",
            "Training loss:(0.0)\n",
            "Test accuracy:(0.9800955414012739)\n",
            "Epoch:6\n",
            "Training accuracy:(0.9924040511727079)\n",
            "Training loss:(0.0)\n",
            "Test accuracy:(0.9793988853503185)\n",
            "Epoch:7\n",
            "Training accuracy:(0.9929204424307037)\n",
            "Training loss:(0.0)\n",
            "Test accuracy:(0.9783041401273885)\n",
            "Epoch:8\n",
            "Training accuracy:(0.9936200692963753)\n",
            "Training loss:(0.0)\n",
            "Test accuracy:(0.9784036624203821)\n",
            "Epoch:9\n",
            "Training accuracy:(0.9950859541577826)\n",
            "Training loss:(0.0)\n",
            "Test accuracy:(0.9782046178343949)\n",
            "Epoch:10\n",
            "Training accuracy:(0.994186433901919)\n",
            "Training loss:(0.0)\n",
            "Test accuracy:(0.9810907643312102)\n"
          ]
        }
      ]
    },
    {
      "cell_type": "code",
      "source": [],
      "metadata": {
        "id": "heFF2MgP3gsR"
      },
      "execution_count": null,
      "outputs": []
    }
  ]
}